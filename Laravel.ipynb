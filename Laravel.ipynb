{
 "cells": [
  {
   "cell_type": "markdown",
   "id": "735f8f9f",
   "metadata": {},
   "source": [
    "# Laravel"
   ]
  },
  {
   "cell_type": "code",
   "execution_count": null,
   "id": "c670c469",
   "metadata": {},
   "outputs": [],
   "source": [
    "$ composer create laravel/laravel <projectname>"
   ]
  },
  {
   "cell_type": "code",
   "execution_count": null,
   "id": "14ecff3c",
   "metadata": {},
   "outputs": [],
   "source": [
    "php artisan serve"
   ]
  },
  {
   "cell_type": "markdown",
   "id": "ff1bc229",
   "metadata": {},
   "source": [
    "### Connecting to react app\n",
    "After initialising your laravel project:"
   ]
  },
  {
   "cell_type": "code",
   "execution_count": null,
   "id": "ca27f975",
   "metadata": {},
   "outputs": [],
   "source": [
    "$ npm install\n",
    "$ npm run dev ## Laravel mix compiles resources/js/app\n",
    "\n",
    "$ npm install --save-dev react react-dom"
   ]
  },
  {
   "cell_type": "markdown",
   "id": "6d580355",
   "metadata": {},
   "source": [
    "Update the Laravel Mix config to compile react:"
   ]
  },
  {
   "cell_type": "code",
   "execution_count": null,
   "id": "a04844e0",
   "metadata": {},
   "outputs": [],
   "source": [
    "## webpack.mix.js\n",
    "\n",
    "const mix = require('laravel-mix');\n",
    "\n",
    "mix.js('resources/js/app.js', 'public/js')\n",
    "    .react()\n",
    "    .postCss('resources/css/app.css', 'public/css', [\n",
    "        //\n",
    "    ]);"
   ]
  },
  {
   "cell_type": "markdown",
   "id": "69968942",
   "metadata": {},
   "source": [
    "Can run npm run watch so that it automatically compiles files upon change"
   ]
  },
  {
   "cell_type": "code",
   "execution_count": null,
   "id": "5d9cf3d7",
   "metadata": {},
   "outputs": [],
   "source": [
    "$ npm run watch"
   ]
  },
  {
   "cell_type": "markdown",
   "id": "b93d0bc0",
   "metadata": {},
   "source": [
    "## Basics"
   ]
  },
  {
   "cell_type": "markdown",
   "id": "0af55802",
   "metadata": {},
   "source": [
    "### Routing\n",
    "Php route files load view files."
   ]
  },
  {
   "cell_type": "code",
   "execution_count": null,
   "id": "4a3a2947",
   "metadata": {},
   "outputs": [],
   "source": [
    "## Routes/web.php\n",
    "\n",
    "# Calls resources/views/posts.blade.php\n",
    "Route::get('/', function ()) {\n",
    "    return view('posts')\n",
    "}\n",
    "    \n"
   ]
  },
  {
   "cell_type": "markdown",
   "id": "60b97f24",
   "metadata": {},
   "source": [
    "### Javascript files\n",
    "Below view calls our app.js javascript file, which loads the relevant components. We can then call javascript functions via the id of a given div."
   ]
  },
  {
   "cell_type": "code",
   "execution_count": null,
   "id": "f3965ad8",
   "metadata": {},
   "outputs": [],
   "source": [
    "## Resources/views/posts.blade.php\n",
    "<!DOCTYPE html>\n",
    "<html lang=\"en\">\n",
    "<head>\n",
    "    <meta charset=\"UTF-8\">\n",
    "    <meta name=\"viewport\" content=\"width=device-width, initial-scale=1.0\">\n",
    "    <meta http-equiv=\"X-UA-Compatible\" content=\"ie=edge\">\n",
    "    <title>Laravel React</title>\n",
    "    <link rel=\"stylesheet\" href=\"/app.css\">\n",
    "\n",
    "    <script src=\"{{ asset('js/app.js') }}\" defer></script>\n",
    "</head>\n",
    "<body>\n",
    "    <div id=\"allBlogs\"></div>\n",
    "</body>\n",
    "</html>"
   ]
  },
  {
   "cell_type": "code",
   "execution_count": null,
   "id": "8a4e943f",
   "metadata": {},
   "outputs": [],
   "source": [
    "## Resources/js/app.js\n",
    "require('./bootstrap');\n",
    "\n",
    "require('./components/AllBlogs');\n",
    "require('./components/Post')"
   ]
  },
  {
   "cell_type": "code",
   "execution_count": null,
   "id": "b3de2003",
   "metadata": {},
   "outputs": [],
   "source": [
    "## Resources/js/components/AllBlogs\n",
    "import React from 'react'\n",
    "import ReactDOM from 'react-dom'\n",
    "import BlogItem from './Blog_list_item'\n",
    "\n",
    "export default function AllBlogs(){\n",
    "\n",
    "    const blog = {\n",
    "        title: \"Kooks is very beautiful\",\n",
    "        date: new Date()\n",
    "    }\n",
    "    return (\n",
    "        <div>\n",
    "            <h1>Blogs</h1>\n",
    "            <ul>\n",
    "                <BlogItem blog={blog}/>\n",
    "            </ul>\n",
    "        </div>\n",
    "    )\n",
    "}\n",
    "\n",
    "if (document.getElementById('allBlogs')){\n",
    "    ReactDOM.render(<AllBlogs/>, document.getElementById('allBlogs'))\n",
    "}"
   ]
  },
  {
   "cell_type": "markdown",
   "id": "8c15632c",
   "metadata": {},
   "source": [
    "### React communicating with server"
   ]
  },
  {
   "cell_type": "code",
   "execution_count": null,
   "id": "e91918fa",
   "metadata": {},
   "outputs": [],
   "source": [
    "// Inside react component\n",
    "import axios from \"axios\"\n",
    "\n",
    "const notifyServer = () => {\n",
    "    axios.post('/route', {\n",
    "        message: 'Info sending'\n",
    "    })\n",
    "}"
   ]
  },
  {
   "cell_type": "markdown",
   "id": "766b9c76",
   "metadata": {},
   "source": [
    "### Passing arguments to react components\n",
    "Can send variables in associative arrays."
   ]
  },
  {
   "cell_type": "code",
   "execution_count": null,
   "id": "d5f89340",
   "metadata": {},
   "outputs": [],
   "source": [
    "## routes/web.php\n",
    "\n",
    "Route::get('post', function () {\n",
    "    return view('post', [\n",
    "        'post' => \"Hello world!\"\n",
    "    ]);\n",
    "});"
   ]
  },
  {
   "cell_type": "markdown",
   "id": "94728b8b",
   "metadata": {},
   "source": [
    "Then pass the variable to the php view"
   ]
  },
  {
   "cell_type": "code",
   "execution_count": null,
   "id": "869c2786",
   "metadata": {},
   "outputs": [],
   "source": [
    "## resources/views/post.blade.php\n",
    "<!DOCTYPE html>\n",
    "<html lang=\"en\">\n",
    "<head>\n",
    "    <meta charset=\"UTF-8\">\n",
    "    <meta name=\"viewport\" content=\"width=device-width, initial-scale=1.0\">\n",
    "    <meta http-equiv=\"X-UA-Compatible\" content=\"ie=edge\">\n",
    "    <title>Laravel React</title>\n",
    "\n",
    "    <script src=\"{{ asset('js/app.js') }}\" defer></script>\n",
    "</head>\n",
    "<body>\n",
    "    <div id=\"post\" post=\"{{ $post }}\"></div>\n",
    "</body>\n",
    "</html>"
   ]
  },
  {
   "cell_type": "markdown",
   "id": "28fae0b3",
   "metadata": {},
   "source": [
    "Define variable in react component"
   ]
  },
  {
   "cell_type": "code",
   "execution_count": null,
   "id": "f6e303c5",
   "metadata": {},
   "outputs": [],
   "source": [
    "import React from 'react'\n",
    "import ReactDOM from 'react-dom'\n",
    "\n",
    "export default function Post({post}) {\n",
    "    console.log(post)\n",
    "    return (\n",
    "        <div>\n",
    "            <h1>{post}</h1>\n",
    "            <b/>\n",
    "            <a href = \"/\">back</a>\n",
    "        </div>\n",
    "    )\n",
    "}\n",
    "\n",
    "if (document.getElementById('post')){\n",
    "    const value = document.getElementById('post').getAttribute(\"post\")\n",
    "    ReactDOM.render(<Post post={value}/>, document.getElementById('post'))\n",
    "}"
   ]
  },
  {
   "cell_type": "markdown",
   "id": "2905fecc",
   "metadata": {},
   "source": [
    "### Taking arguments from route uri"
   ]
  },
  {
   "cell_type": "code",
   "execution_count": null,
   "id": "5dc27e90",
   "metadata": {},
   "outputs": [],
   "source": [
    "## routes/web.php\n",
    "Route::get('posts/{post}', function ($slug){\n",
    "    \n",
    "    if (!file_exists($path = __DIR__ . \"resources/{$post}.html\")) {\n",
    "        abort(404)\n",
    "        ## Can also redirect\n",
    "        return redirect('/')\n",
    "    }\n",
    "    $post = file_get_contents($path);\n",
    "    return view('post', [\n",
    "        'post' => $post\n",
    "    ]);\n",
    "})->where('post', '[a-z]+'); # Where specifies route only works for certain regex-validated variables"
   ]
  },
  {
   "cell_type": "markdown",
   "id": "9a81babf",
   "metadata": {},
   "source": [
    "### Passing JSONs"
   ]
  },
  {
   "cell_type": "code",
   "execution_count": null,
   "id": "0bda4bd2",
   "metadata": {},
   "outputs": [],
   "source": [
    "Route::get('/post/{id}', function ($id) {\n",
    "    $blogs = json_decode(file_get_contents(__DIR__ . \"/../resources/data/posts.json\"));\n",
    "    $blog = Arr::where($blogs->blogs, function ($value, $key) use ($id) {\n",
    "        return $key == $id;\n",
    "    });\n",
    "    die(var_dump($blog));\n",
    "});"
   ]
  },
  {
   "cell_type": "markdown",
   "id": "5a27598e",
   "metadata": {},
   "source": [
    "### Caching\n",
    "Laravel provides easy helper functions for storing cache. Below route saves cache for one minute. now()->addXXX works for many different periods of time. Forgets cache after 1 minute. "
   ]
  },
  {
   "cell_type": "code",
   "execution_count": null,
   "id": "d5499825",
   "metadata": {},
   "outputs": [],
   "source": [
    "Route::get('/post/{id}', function ($id) {\n",
    "    ///...\n",
    "    \n",
    "    $blogs = cache()->remember(\"post.{$id}\", now()->addMinutes(1), function () use ($path, $id){\n",
    "        $blogs = json_decode(file_get_contents($path));\n",
    "        return Arr::where($blogs->blogs, function ($value, $key) use ($id) {\n",
    "            return $key == $id;\n",
    "        });\n",
    "    });\n",
    "})"
   ]
  },
  {
   "cell_type": "markdown",
   "id": "e184c885",
   "metadata": {},
   "source": [
    "### Refactoring \n",
    "Suggested refactoring to make code nicer. Write down exactly what you want the function to do. Then rewrite the code so it reads just as that.\n",
    "\n",
    "Make a new class in *app/models**"
   ]
  },
  {
   "cell_type": "code",
   "execution_count": null,
   "id": "35908a13",
   "metadata": {},
   "outputs": [],
   "source": [
    "use App\\Models\\Blog;\n",
    "\n",
    "Route::get('/post/{id}', function ($id) {\n",
    "    $blog = Blog::find($slug);\n",
    "    \n",
    "    return view('post', [\n",
    "        'blog' => json_encode($blog[$id])\n",
    "    ]);\n",
    "})"
   ]
  },
  {
   "cell_type": "markdown",
   "id": "33c4e84d",
   "metadata": {},
   "source": [
    "Name space maps to directory names and it used for accessing different files and objects. "
   ]
  },
  {
   "cell_type": "code",
   "execution_count": null,
   "id": "95cd5aaf",
   "metadata": {},
   "outputs": [],
   "source": [
    "<?php \n",
    "\n",
    "namespace App\\Models;\n",
    "use Illuminate\\Database\\Eloquent\\ModelNotFoundException;\n",
    "use Illuminate\\support\\Arr;\n",
    "\n",
    "class Blog \n",
    "{\n",
    "    public static function find($id)\n",
    "    {\n",
    "        if (!file_exists($path = resource_path(\"data/posts.json\"))){\n",
    "            return ModelNotFoundException(); # Laravel helper throws error if not found\n",
    "        }\n",
    "    \n",
    "        return cache()->remember(\"post.{$id}\", now()->addMinutes(1), function () use ($path, $id){\n",
    "            $blogs = json_decode(file_get_contents($path));\n",
    "            return Arr::where($blogs->blogs, function ($value, $key) use ($id) {\n",
    "                return $key == $id;\n",
    "            });\n",
    "        })[$id];\n",
    "    }\n",
    "}"
   ]
  },
  {
   "cell_type": "markdown",
   "id": "2683eaa0",
   "metadata": {},
   "source": [
    "## Connecting to a DB\n",
    "In *config/database.php* find a variable 'default' which defines the default DB connection. Populates all .env variables."
   ]
  },
  {
   "cell_type": "code",
   "execution_count": null,
   "id": "fe75ef10",
   "metadata": {},
   "outputs": [],
   "source": [
    "'default' => env('DB_CONNECTION', 'mysql')  ## Default to mysql if none"
   ]
  },
  {
   "cell_type": "markdown",
   "id": "861983ac",
   "metadata": {},
   "source": [
    "Create DB in mysql and run php artisan migrate in shell."
   ]
  },
  {
   "cell_type": "code",
   "execution_count": null,
   "id": "99fda877",
   "metadata": {},
   "outputs": [],
   "source": [
    "$ php artisan migrate"
   ]
  },
  {
   "cell_type": "markdown",
   "id": "9b2b65b1",
   "metadata": {},
   "source": [
    "*database/migrations* contains a load of schemas for columns in the DB tables. Need to migrate each time you make a change to the schema."
   ]
  },
  {
   "cell_type": "code",
   "execution_count": null,
   "id": "01e290db",
   "metadata": {},
   "outputs": [],
   "source": [
    "$ php artisan migrate::rollback ## rollbacks last migration\n",
    "$ php artisan migrate  # migrates"
   ]
  },
  {
   "cell_type": "code",
   "execution_count": null,
   "id": "cd0f09e3",
   "metadata": {},
   "outputs": [],
   "source": [
    "class CreateUsersTable extends Migration\n",
    "{\n",
    "    /**\n",
    "     * Run the migrations.\n",
    "     *\n",
    "     * @return void\n",
    "     */\n",
    "    public function up()\n",
    "    {\n",
    "        Schema::create('users', function (Blueprint $table) {\n",
    "            $table->id();\n",
    "            $table->string('name');\n",
    "            $table->string('email')->unique();\n",
    "            $table->timestamp('email_verified_at')->nullable();\n",
    "            $table->string('password');\n",
    "            $table->boolean('is_admin')->default(false); ## Set defaults\n",
    "            $table->rememberToken();\n",
    "            $table->timestamps();\n",
    "        });\n",
    "    }\n",
    "\n",
    "    /**\n",
    "     * Reverse the migrations.\n",
    "     *\n",
    "     * @return void\n",
    "     */\n",
    "    public function down()\n",
    "    {\n",
    "        Schema::dropIfExists('users');\n",
    "    }\n",
    "}"
   ]
  },
  {
   "cell_type": "code",
   "execution_count": null,
   "id": "a9b3fb06",
   "metadata": {},
   "outputs": [],
   "source": [
    "$ php artisan migrate:rollback ## rollbacks last migration\n",
    "$ php artisan migrate:fresh  ## rollsback EVERY migration"
   ]
  },
  {
   "cell_type": "code",
   "execution_count": null,
   "id": "7d9786ee",
   "metadata": {},
   "outputs": [],
   "source": [
    "$ php artisan ## shows all command options"
   ]
  },
  {
   "cell_type": "markdown",
   "id": "1453f544",
   "metadata": {},
   "source": [
    "### Eloquent models\n",
    "Eloquent is laravel's object relational mapper (way of interacting with DB tables). Each table has a corresponding eloquent model (Users table -> User model), and each instance of a model corresponds to a single row in that table. This uses the **Active Record Pattern**: An approach to accessing data in DB where each object instance of a model is tied to a single row in the table. "
   ]
  },
  {
   "cell_type": "markdown",
   "id": "0e324a35",
   "metadata": {},
   "source": [
    "Can use php artisan tinker to add rows to table from the command line."
   ]
  },
  {
   "cell_type": "code",
   "execution_count": null,
   "id": "9569dc20",
   "metadata": {},
   "outputs": [],
   "source": [
    "$ php artisan tinker \n",
    "\n",
    "> $user = new App\\Models\\User; # use name space of model\n",
    "> $user->name = \"Kooks\"\n",
    "> $user->email = \"kooks@kooks.com\"\n",
    "> $user->password = bcrypt('password')  ## use bcrypt to encrypt password\n",
    "\n",
    "> $user->save();"
   ]
  },
  {
   "cell_type": "markdown",
   "id": "9023f63a",
   "metadata": {},
   "source": [
    "Can always edit user info by re-defining any of these and then re-saving. "
   ]
  },
  {
   "cell_type": "code",
   "execution_count": null,
   "id": "7647cd68",
   "metadata": {},
   "outputs": [],
   "source": [
    "> User::find(1);  # find user with id of 1, returns null if none\n",
    "> User::findOrFail(1); # returns modelnotfound exception if none\n",
    "        \n",
    "> User:all(); # get colleciton of all users\n",
    "> User::count()\n",
    "## Save collection to variable\n",
    "> $users = User:all();\n",
    "    \n",
    "> $users->pluck('name'); # get new collection of names\n",
    "> $users->first(); # get first item from collection"
   ]
  },
  {
   "cell_type": "markdown",
   "id": "1a33f802",
   "metadata": {},
   "source": [
    "Can also use collections as an array!"
   ]
  },
  {
   "cell_type": "markdown",
   "id": "7a01de81",
   "metadata": {},
   "source": [
    "### Making eloquent models"
   ]
  },
  {
   "cell_type": "markdown",
   "id": "c3e4aaaf",
   "metadata": {},
   "source": [
    "Quickly, at any point can use php artisan help <command> to see which arguments it takes. \n",
    "\n",
    "To make a new table, want to start by defining its migration:"
   ]
  },
  {
   "cell_type": "code",
   "execution_count": null,
   "id": "2b5b0920",
   "metadata": {},
   "outputs": [],
   "source": [
    "$ php artisan make:migration create_posts_table  ## creates migration file in database/migrations"
   ]
  },
  {
   "cell_type": "markdown",
   "id": "fb0a4485",
   "metadata": {},
   "source": [
    "Then you can edit the schema accordingly. \n",
    "\n",
    "Then make a model using the singular version of the table name."
   ]
  },
  {
   "cell_type": "code",
   "execution_count": null,
   "id": "d1e77785",
   "metadata": {},
   "outputs": [],
   "source": [
    "$ php artisan make:model Post"
   ]
  },
  {
   "cell_type": "markdown",
   "id": "7c51829e",
   "metadata": {},
   "source": [
    "Alternatively you can run this to execute both at once: "
   ]
  },
  {
   "cell_type": "code",
   "execution_count": null,
   "id": "038f15d9",
   "metadata": {},
   "outputs": [],
   "source": [
    "$ php artisan make:model Post -m ## -m includes migration"
   ]
  },
  {
   "cell_type": "markdown",
   "id": "1c1f8905",
   "metadata": {},
   "source": [
    "Make a new post"
   ]
  },
  {
   "cell_type": "code",
   "execution_count": null,
   "id": "a944c05c",
   "metadata": {},
   "outputs": [],
   "source": [
    "$ use App\\Models\\Post;\n",
    "Post::all();"
   ]
  },
  {
   "cell_type": "markdown",
   "id": "878774e6",
   "metadata": {},
   "source": [
    "### Mass Assignments\n",
    "Can make an object instance all at once by defining $fillable properties in your model. In general only want to allow mass assignment (ie set to fillable) of variables you would like your users to be able to edit. Ie. not things like ID. These are called Mass Assignment Vulnerabilities. "
   ]
  },
  {
   "cell_type": "code",
   "execution_count": null,
   "id": "9fae4952",
   "metadata": {},
   "outputs": [],
   "source": [
    "## app\\Models\\Post\n",
    "<?php\n",
    "namespace App\\Models;\n",
    "\n",
    "class Post extends Model\n",
    "{\n",
    "    protected $fillable = [\"title\", 'excerpt']\n",
    "}"
   ]
  },
  {
   "cell_type": "code",
   "execution_count": null,
   "id": "9a066cda",
   "metadata": {},
   "outputs": [],
   "source": [
    "> Post::create(['title'=> 'blog1', 'excerpt'=> 'a compelling new blog post']);"
   ]
  },
  {
   "cell_type": "markdown",
   "id": "79e356a4",
   "metadata": {},
   "source": [
    "### DB seeding\n",
    "Can seed the database to automatically fill with data after each migration. "
   ]
  },
  {
   "cell_type": "code",
   "execution_count": null,
   "id": "3cd2c080",
   "metadata": {},
   "outputs": [],
   "source": [
    "# database/seeds/DatabaseSeeder.php\n",
    "use App\\Models\\Category;\n",
    "use App\\Models\\Blog;\n",
    "use Illuminate\\Database\\Seeder;\n",
    "\n",
    "class DatabaseSeeder extends Seeder\n",
    "{\n",
    "    /**\n",
    "     * Seed the application's database.\n",
    "     *\n",
    "     * @return void\n",
    "     */\n",
    "    public function run()\n",
    "    {\n",
    "        Category::truncate();\n",
    "        Blog::truncate();\n",
    "\n",
    "        $fun = Category::create([\n",
    "            'name'=> 'Fun',\n",
    "            'slug' => 'fun'\n",
    "        ]);\n",
    "\n",
    "        Blog::create([\n",
    "            'category_id'=> $fun->id,\n",
    "            'title'=>\"blog post 1\",\n",
    "            'author' => 'kooks',\n",
    "            'excerpt' => 'Lorem ipsum dolor sit amet, consectetur adipiscing elit, sed do eiusmod tempor incididunt ut labore et dolore magna aliqua.',\n",
    "            'content'=> 'Lorem ipsum dolor sit amet, consectetur adipiscing elit, sed do eiusmod tempor incididunt ut labore et dolore magna aliqua. Ut enim ad minim veniam, quis nostrud exercitation ullamco laboris nisi ut aliquip ex ea commodo consequat. Duis aute irure dolor in reprehenderit in voluptate velit esse cillum dolore eu fugiat nulla pariatur. Excepteur sint occaecat cupidatat non proident, sunt in culpa qui officia deserunt mollit anim id est laborum.'\n",
    "        ]);\n",
    "\n",
    "    }\n",
    "}"
   ]
  },
  {
   "cell_type": "code",
   "execution_count": null,
   "id": "9cb90482",
   "metadata": {},
   "outputs": [],
   "source": [
    "$ php artisan db:seed"
   ]
  },
  {
   "cell_type": "markdown",
   "id": "96c1fb44",
   "metadata": {},
   "source": [
    "### Factories\n",
    "Can use factories to seed database"
   ]
  },
  {
   "cell_type": "code",
   "execution_count": null,
   "id": "8faa14d8",
   "metadata": {},
   "outputs": [],
   "source": [
    "? php artisan make:factory PostFactory\n",
    "    \n",
    "### OR when making a new model:\n",
    "?php make:model -a # makes migration, seeder, factory and resource controller!"
   ]
  },
  {
   "cell_type": "code",
   "execution_count": null,
   "id": "c402a518",
   "metadata": {},
   "outputs": [],
   "source": [
    "## database/factories/PostFactory\n",
    "<?php\n",
    "\n",
    "namespace Database\\Factories;\n",
    "\n",
    "use Illuminate\\Database\\Eloquent\\Factories\\Factory;\n",
    "\n",
    "class BlogFactory extends Factory\n",
    "{\n",
    "    /**\n",
    "     * Define the model's default state.\n",
    "     *\n",
    "     * @return array\n",
    "     */\n",
    "    \n",
    "    protected $model = Blog::class; \n",
    "\n",
    "    public function definition()\n",
    "    {\n",
    "        return [\n",
    "            'user_id'=> User::factory(), # automatically finds user ID from factory\n",
    "            'category_id'=> Category::factory(),\n",
    "            'title'=> $this->faker->sentence,\n",
    "            'excerpt' => $this->faker->sentence,\n",
    "            'content'=>$this->faker->paragraph\n",
    "        ];\n",
    "    }\n",
    "}"
   ]
  },
  {
   "cell_type": "markdown",
   "id": "b27e873b",
   "metadata": {},
   "source": [
    "And in the model, need to make sure to mark it as \"has factory\":"
   ]
  },
  {
   "cell_type": "code",
   "execution_count": null,
   "id": "a026f232",
   "metadata": {},
   "outputs": [],
   "source": [
    "# App\\Models\\Post\n",
    "\n",
    "use Illuminate\\Database\\Eloquent\\Factories\\HasFactory;\n",
    "\n",
    "class Post extends Model {\n",
    "    use HasFactory;\n",
    "    //...\n",
    "}"
   ]
  },
  {
   "cell_type": "code",
   "execution_count": null,
   "id": "d17ceded",
   "metadata": {},
   "outputs": [],
   "source": [
    "> $blog = Blog::factory()->create();\n",
    "\n",
    "## Specify category ID\n",
    "> $blog = Blog::factory()->create('category_id' => 1)"
   ]
  },
  {
   "cell_type": "markdown",
   "id": "a532bc4b",
   "metadata": {},
   "source": [
    "Automatically seed after migration:"
   ]
  },
  {
   "cell_type": "markdown",
   "id": "7a28ecbd",
   "metadata": {},
   "source": [
    "$ php artisan migrate --seed"
   ]
  },
  {
   "cell_type": "markdown",
   "id": "92fb46e8",
   "metadata": {},
   "source": [
    "### Route model binding\n",
    "Binding a route key to an underlying model when defining a route:"
   ]
  },
  {
   "cell_type": "code",
   "execution_count": null,
   "id": "8088464c",
   "metadata": {},
   "outputs": [],
   "source": [
    "// web.php\n",
    "## Automatically finds a post with a given ID\n",
    "Route::get('/posts/{post}', function (Post $post){\n",
    "    return view('post', [\n",
    "        'post'=> $post\n",
    "    ])\n",
    "})"
   ]
  },
  {
   "cell_type": "markdown",
   "id": "5d48a190",
   "metadata": {},
   "source": [
    "Route model binding automatically defaults to finding a given post by ID, but can also specify which column to search by:"
   ]
  },
  {
   "cell_type": "code",
   "execution_count": null,
   "id": "54baacc6",
   "metadata": {},
   "outputs": [],
   "source": [
    "## Finds by author\n",
    "Route::get('/posts/{post:author}', function (Post $post){\n",
    "    return view('post', [\n",
    "        'post'=> $post\n",
    "    ])\n",
    "})"
   ]
  },
  {
   "cell_type": "markdown",
   "id": "fc82a0d4",
   "metadata": {},
   "source": [
    "In a model, you can also manually define the default key to use in route model binding like so: "
   ]
  },
  {
   "cell_type": "code",
   "execution_count": null,
   "id": "d77d6c99",
   "metadata": {},
   "outputs": [],
   "source": [
    "## app/Models/Post\n",
    "\n",
    "class Post extends Model {\n",
    "    //...\n",
    "    public function getRouteKeyName()\n",
    "    {\n",
    "        return 'author'\n",
    "    };\n",
    "}"
   ]
  },
  {
   "cell_type": "markdown",
   "id": "351a6372",
   "metadata": {},
   "source": [
    "### Eloquent relationships\n",
    "How to create relationships between different tables. For example, you want to add different categories blog posts can be in. You make a new table called Categories, and each blog post is assigned a category. \n",
    "\n",
    "Want to add a *foreign key* to your Post schema to relate it to the categories table: "
   ]
  },
  {
   "cell_type": "code",
   "execution_count": null,
   "id": "06f0a4b6",
   "metadata": {},
   "outputs": [],
   "source": [
    "#database/migrations/create_categories_table.php\n",
    "//...\n",
    "Schema::create('posts', function (Blueprint $table){\n",
    "    /...\n",
    "    $table->foreignId('category_id')\n",
    "})"
   ]
  },
  {
   "cell_type": "markdown",
   "id": "aabc4f91",
   "metadata": {},
   "source": [
    "Then can configure it to show the relevant relationship based on the id. Laravel allows you to define the relationship between a given show and another table: \n",
    "- hasOne\n",
    "- hasMany\n",
    "- belongTo\n",
    "- BelongToMany"
   ]
  },
  {
   "cell_type": "code",
   "execution_count": null,
   "id": "e8213fbd",
   "metadata": {},
   "outputs": [],
   "source": [
    "# App/Models/Post \n",
    "class Post extends Model\n",
    "{\n",
    "    ///...\n",
    "    public function category()\n",
    "    {\n",
    "        return $this->belongsTo(Category::class);\n",
    "    }\n",
    "}"
   ]
  },
  {
   "cell_type": "code",
   "execution_count": null,
   "id": "81121977",
   "metadata": {},
   "outputs": [],
   "source": [
    "$post = Post::first()\n",
    "        \n",
    "## Access as a category\n",
    "$post->category;"
   ]
  },
  {
   "cell_type": "markdown",
   "id": "e60efc5e",
   "metadata": {},
   "source": [
    "Can specify the column name you want to use by passing a second argument to the belongsTo function:"
   ]
  },
  {
   "cell_type": "code",
   "execution_count": null,
   "id": "e13c8f72",
   "metadata": {},
   "outputs": [],
   "source": [
    "# App/Models/Post \n",
    "class Post extends Model\n",
    "{\n",
    "    ///...\n",
    "    public function category()\n",
    "    {\n",
    "        return $this->belongsTo(Category::class, 'category_id');\n",
    "    }\n",
    "}"
   ]
  },
  {
   "cell_type": "markdown",
   "id": "04f8db62",
   "metadata": {},
   "source": [
    "Then you can do the same for the Category model: a category hasMany blogs. "
   ]
  },
  {
   "cell_type": "markdown",
   "id": "e2fe0dee",
   "metadata": {},
   "source": [
    "### Eager loading\n",
    "Contrast to lazy loading, where we make one query each time we need something from the DB. Eager loading makes multiple queries upfront to get all the data we need.\n",
    "\n",
    "Example: Loading the latest blog post right away with its categories"
   ]
  },
  {
   "cell_type": "code",
   "execution_count": null,
   "id": "efd3dcb7",
   "metadata": {},
   "outputs": [],
   "source": [
    "# routes/web.php\n",
    "Route::get(\"/\", function () {\n",
    "    return view('posts', [\n",
    "        'posts' => Post::latest()::with('category', 'user')->get()\n",
    "    ])\n",
    "})"
   ]
  },
  {
   "cell_type": "markdown",
   "id": "2bf03337",
   "metadata": {},
   "source": [
    "With **Route model binding**"
   ]
  },
  {
   "cell_type": "code",
   "execution_count": null,
   "id": "2b138893",
   "metadata": {},
   "outputs": [],
   "source": [
    "# routes/web.php\n",
    "Route::get(\"/posts/{id}\", function (Post $post) {\n",
    "    return view('posts', [\n",
    "        'posts' => $post->load('category')\n",
    "    ])\n",
    "})"
   ]
  },
  {
   "cell_type": "markdown",
   "id": "03457b59",
   "metadata": {},
   "source": [
    "## Search\n",
    "In Laravel, we can wrap a form in a get request and it will automatically send the request on submit"
   ]
  },
  {
   "cell_type": "code",
   "execution_count": null,
   "id": "21873b1e",
   "metadata": {},
   "outputs": [],
   "source": [
    "<form  method=\"GET\" action=\"#\">\n",
    "        <input \n",
    "                type=\"text\"\n",
    "                name=\"search\" \n",
    "                value=\"{{ request('search') ?? ' ' }}\"\n",
    "            />\n",
    "        <button type='submit'>search</button>\n",
    "    </form>"
   ]
  },
  {
   "cell_type": "markdown",
   "id": "b4e8aec3",
   "metadata": {},
   "source": [
    "The search contents are then sent via *request('search')*. In the backend, can use a SQL query with laravel's 'where'"
   ]
  },
  {
   "cell_type": "code",
   "execution_count": null,
   "id": "2aff863a",
   "metadata": {},
   "outputs": [],
   "source": [
    "## Handle searching\n",
    "Route::get('/', function () {\n",
    "    $posts = Post::latest();\n",
    "    if (request('search')) {\n",
    "        $posts\n",
    "            ->where('title', 'like', '%'.request('search').'%');\n",
    "            ->orWhere('body', 'like', '%'.request('search').'%');\n",
    "    }\n",
    "    return view('posts', [\n",
    "        'posts'=> $posts->get();\n",
    "    ])\n",
    "});"
   ]
  },
  {
   "cell_type": "markdown",
   "id": "17a29ee1",
   "metadata": {},
   "source": [
    "**Cleaner method:** Refactor all the logic out into its own controller, and then route through the controller:"
   ]
  },
  {
   "cell_type": "code",
   "execution_count": null,
   "id": "d4442377",
   "metadata": {},
   "outputs": [],
   "source": [
    "## app/http/controllers/BlogController\n",
    "class BlogController extends Controller\n",
    "{\n",
    "\n",
    "    public function index()\n",
    "    {\n",
    "        $blogs = Blog::with('category', 'user');\n",
    "\n",
    "        if(request('search') ?? false){\n",
    "            $blogs->where('title', 'like', '%'.request('search').'%');\n",
    "        }\n",
    "\n",
    "        return view('main', [\n",
    "        'blogs' => $blogs->get()\n",
    "    ]);\n",
    "    }\n",
    "    \n",
    "    public function show(Blog $blog)\n",
    "    {\n",
    "        return view('post', [\n",
    "            'blog' => $blog->load('category', 'user')\n",
    "        ]);\n",
    "    }\n",
    "}"
   ]
  },
  {
   "cell_type": "markdown",
   "id": "4dfdc5d2",
   "metadata": {},
   "source": [
    "Then simply route through this controller:"
   ]
  },
  {
   "cell_type": "code",
   "execution_count": null,
   "id": "38d38892",
   "metadata": {},
   "outputs": [],
   "source": [
    "#routes/web.php\n",
    "Route::get('/', [PostController::class, 'index'])->name('home');\n",
    "Route::get('/post/{blog}', [PostController::class, 'show'])"
   ]
  },
  {
   "cell_type": "markdown",
   "id": "35cff1a5",
   "metadata": {},
   "source": [
    "We can make this even cleaner by creating a scope directly on the eloquent models. To define a scope, prefix the function name with 'scope'.\n",
    "\n",
    "You then can build your query and call the scope function afterwards: \n",
    "ex: *Blog::recent()->filter*"
   ]
  },
  {
   "cell_type": "code",
   "execution_count": null,
   "id": "2b5c9a87",
   "metadata": {},
   "outputs": [],
   "source": [
    "class Post extends Model\n",
    "{\n",
    "    //...\n",
    "    public function scopeFilter($query, $filters)\n",
    "    {\n",
    "        ## Call  Post::filter()\n",
    "        # Takes query filter: Post::newQuery()->filter()\n",
    "        if (filters('search') ?? false) {\n",
    "        $query\n",
    "            ->where('title', 'like', '%'.request('search').'%');\n",
    "            ->orWhere('body', 'like', '%'.request('search').'%');\n",
    "    }\n",
    "    }\n",
    "}"
   ]
  },
  {
   "cell_type": "code",
   "execution_count": null,
   "id": "9c173641",
   "metadata": {},
   "outputs": [],
   "source": [
    "# App\\Http\\Controllers\\PostController\n",
    "class PostController extends Controller\n",
    "{\n",
    "    public function idnex()\n",
    "    {\n",
    "        return view('posts', [\n",
    "            'post' => Post::latest()->filter(request(['search', 'category']))->get()\n",
    "        ]);\n",
    "    }\n",
    "}"
   ]
  },
  {
   "cell_type": "markdown",
   "id": "df8d3a5e",
   "metadata": {},
   "source": [
    "**When** method allows you to call a method when a given value is true"
   ]
  },
  {
   "cell_type": "code",
   "execution_count": null,
   "id": "0407cabc",
   "metadata": {},
   "outputs": [],
   "source": [
    "class Post extends Model\n",
    "{\n",
    "    //...\n",
    "    public function scopeFilter($query, $filters)\n",
    "    {\n",
    "        ## Call  Post::filter()\n",
    "        # Takes query filter: Post::newQuery()->filter()\n",
    "        $query->when($filters['search'] ?? false, function ($query, $search){\n",
    "            $query\n",
    "            ->where('title', 'like', '%'.request('search').'%');\n",
    "            ->orWhere('body', 'like', '%'.request('search').'%');\n",
    "        })\n",
    "        \n",
    "        $query->when($filters['category'] ?? false, function ($query, $category){\n",
    "            $query->whereHas('category', function($query) use ($category){\n",
    "                $query->where('name', $category);\n",
    "            });\n",
    "            });\n",
    "    }\n",
    "}"
   ]
  },
  {
   "cell_type": "markdown",
   "id": "2f5ff742",
   "metadata": {},
   "source": [
    "## Controllers"
   ]
  },
  {
   "cell_type": "code",
   "execution_count": null,
   "id": "21c94fcf",
   "metadata": {},
   "outputs": [],
   "source": [
    "$ php artisan make:controller PostController"
   ]
  },
  {
   "cell_type": "code",
   "execution_count": null,
   "id": "d3c3b2ab",
   "metadata": {},
   "outputs": [],
   "source": [
    "## namespace App\\Http\\Controllers;\n",
    "\n",
    "use App\\Models\\Blog;\n",
    "use App\\Models\\Category;\n",
    "\n",
    "use Illuminate\\Http\\Request;\n",
    "\n",
    "class BlogController extends Controller\n",
    "{\n",
    "    public function index()\n",
    "    {\n",
    "        $blogs = Blog::with('category', 'user')->get();\n",
    "        return view('main', [\n",
    "        'blogs' => $blogs\n",
    "    ]);\n",
    "\n",
    "    }\n",
    "}\n"
   ]
  },
  {
   "cell_type": "code",
   "execution_count": null,
   "id": "b1722c0f",
   "metadata": {},
   "outputs": [],
   "source": [
    "## Call a controller in the route\n",
    "# Second argument is name of controller accent want to trigger\n",
    "Route::get('/', [BlogController::class, 'index'])->name('home');"
   ]
  },
  {
   "cell_type": "markdown",
   "id": "e8462e54",
   "metadata": {},
   "source": [
    "By Naming the route in this way, we can then just call the route like this: "
   ]
  },
  {
   "cell_type": "code",
   "execution_count": null,
   "id": "fcec1787",
   "metadata": {},
   "outputs": [],
   "source": [
    "route('home')"
   ]
  },
  {
   "cell_type": "markdown",
   "id": "8e5b3d8e",
   "metadata": {},
   "source": [
    "## Forms"
   ]
  },
  {
   "cell_type": "markdown",
   "id": "71be8c28",
   "metadata": {},
   "source": [
    "In the html specify the method and the route. The name of the input is the name. "
   ]
  },
  {
   "cell_type": "code",
   "execution_count": null,
   "id": "e2c31ba7",
   "metadata": {},
   "outputs": [],
   "source": [
    "<form method=\"POST\" action=\"/signup\">\n",
    "        @csrf\n",
    "        <p><input name=\"name\" id=\"name\" type=\"text\" placeholder=\"name\"/></p>\n",
    "        <p><input name=\"username\" id=\"username\" type=\"text\" placeholder=\"username\"/></p>\n",
    "        <p><input name=\"email\" id=\"email\" type=\"email\" placeholder=\"email\"/></p>\n",
    "        <p><input name=\"password\" type=\"password\" id=\"password\" placeholder=\"password\"/></p>\n",
    "        <button type=\"submit\">Signup</button>\n",
    "</form>"
   ]
  },
  {
   "cell_type": "markdown",
   "id": "c130914a",
   "metadata": {},
   "source": [
    "**CSRF Attack** (cross site request forgery): A fake request from one site to another site. Stopping people make forms from another website that cause user changes on yours. Ex: Someone making a form on another website that submits a logout request to overton.io.\n",
    "\n",
    "If you include @csrf in the controller function, laravel will automatically add a hidden input with a token that verifies the request is coming from the correct app. This validation helps prevent csrf attacks. "
   ]
  },
  {
   "cell_type": "code",
   "execution_count": null,
   "id": "e56df06f",
   "metadata": {},
   "outputs": [],
   "source": [
    "## Signup controller: App\\Http\\Controllers\\RegistryController\n",
    "class RegistryController extends Controller\n",
    "{\n",
    "    public function create()\n",
    "    {\n",
    "        return view('signup');\n",
    "    }\n",
    "\n",
    "    public function store()\n",
    "    {\n",
    "        # Validate\n",
    "        $attributes = request()->validate([\n",
    "            'name'=>array('required', 'max:255'),\n",
    "            'username'=>array('required', 'max:255', Rule::unique('users', 'username')),\n",
    "            'email'=>array('required', 'max:255', 'email'),\n",
    "            'password'=>array('required', 'max:255', 'min:7')\n",
    "        ]);\n",
    "        \n",
    "        $attributes['password'] = bcrypt($attributes['password'])\n",
    "                \n",
    "         # Create the user\n",
    "        User::create($attributes);\n",
    "        \n",
    "        ## Log user in \n",
    "        auth()->login($user);\n",
    "        \n",
    "        return redirect('/')->with('success', 'Your account has been created');\n",
    "    }\n",
    "}"
   ]
  },
  {
   "cell_type": "markdown",
   "id": "12587f23",
   "metadata": {},
   "source": [
    "If the validation fails laravel will redirect back to the previous page. \n",
    "\n",
    "Lastly, when making the user, any attributes that are not fillable in the model will fail. To get around this, you can delete the fillable variable in the model and instead set $guarded to an empty array. This takes control away from laravel so it can be handled manually. "
   ]
  },
  {
   "cell_type": "code",
   "execution_count": null,
   "id": "65aad90b",
   "metadata": {},
   "outputs": [],
   "source": [
    "## app\\models\\user\n",
    "class User extends Authenticatable\n",
    "{\n",
    "    //...\n",
    "    ## protected $fillable=[name, email, password]\n",
    "    protected $guarded = []\n",
    "}"
   ]
  },
  {
   "cell_type": "code",
   "execution_count": null,
   "id": "bec922da",
   "metadata": {},
   "outputs": [],
   "source": [
    "## routes/web.php\n",
    "Route::get('/signup', [RegistryController::class, 'create']);\n",
    "Route::post('/signup',[RegistryController::class, 'store'] );"
   ]
  },
  {
   "cell_type": "markdown",
   "id": "c8c2a15a",
   "metadata": {},
   "source": [
    "### Hashing passwords\n",
    "Use the above function bcrypt to hash a password when passed in. We can then validate it using the following helper function."
   ]
  },
  {
   "cell_type": "code",
   "execution_count": null,
   "id": "30ab82d1",
   "metadata": {},
   "outputs": [],
   "source": [
    "Illuminate\\Support\\Facades\\Hash::check('password', $user->passwordb)"
   ]
  },
  {
   "cell_type": "markdown",
   "id": "ff1a3cfc",
   "metadata": {},
   "source": [
    "#### Eloquent mutator\n",
    "Can define functions within an eloquent model (named set_nameofattribute_Attribute()), which will modify the attribute accordingly when a new attribute is passed in before saving to the db."
   ]
  },
  {
   "cell_type": "code",
   "execution_count": null,
   "id": "7ae84397",
   "metadata": {},
   "outputs": [],
   "source": [
    "## App\\Models\\User\n",
    "public function setPasswordAttribute($password){\n",
    "    $this->attributes['password'] = bcrypt($password)\n",
    "}"
   ]
  },
  {
   "cell_type": "markdown",
   "id": "9fa3a284",
   "metadata": {},
   "source": [
    "#### Eloquent Accessor\n",
    "Inverse of a mutator, this modifies an attribute upon getting it from the database. "
   ]
  },
  {
   "cell_type": "code",
   "execution_count": null,
   "id": "bc8accc9",
   "metadata": {},
   "outputs": [],
   "source": [
    "public function getNameAttribute($name){\n",
    "    # Set first letter to uppercase\n",
    "    return ucfirst($name)\n",
    "}"
   ]
  },
  {
   "cell_type": "markdown",
   "id": "2a272f9a",
   "metadata": {},
   "source": [
    "### Validation Errors\n",
    "When validation fails laravel redirects back to the previous page and populates an errors variable.\n",
    "\n",
    "We can read the variable directly in the HTML with the error directive. When inside an error directive, you have access to the message variable. "
   ]
  },
  {
   "cell_type": "code",
   "execution_count": null,
   "id": "36c5e794",
   "metadata": {},
   "outputs": [],
   "source": [
    "## views/signup.blade.php\n",
    "/... \n",
    "@error('name')\n",
    "    <p> {{ $message }} </p>\n",
    "@enderror\n",
    "\n",
    "## To show all errors at one: \n",
    "{{ $errors->all() }}"
   ]
  },
  {
   "cell_type": "markdown",
   "id": "c02d23a4",
   "metadata": {},
   "source": [
    "To avoid the user losing all their filled in values on redirect (annoying), can set the default value to any flashed session data from the previous request. On redirect, laravel will automatically flash this old session data. "
   ]
  },
  {
   "cell_type": "code",
   "execution_count": null,
   "id": "d67ec1fb",
   "metadata": {},
   "outputs": [],
   "source": [
    "<input type='text' name='name' value=\"{{ old('name') }}\""
   ]
  },
  {
   "cell_type": "markdown",
   "id": "26ab06cf",
   "metadata": {},
   "source": [
    "To handle errors being thrown by the backend, for example needing a unique name, we must ensure the validation matches the requirements of the backend. \n",
    "\n",
    "**Unique attributes**\n",
    "The unique validation requirement takes the form: 'unique:tablename,columnname'- it checks with the backend that it is unique. Or in array form:"
   ]
  },
  {
   "cell_type": "code",
   "execution_count": null,
   "id": "e08ae286",
   "metadata": {},
   "outputs": [],
   "source": [
    "## must be unique in table users, column username\n",
    "$attributes = request() -> validate([\n",
    "    'username' => array('required', Rule::unique('users', 'username'))\n",
    "])"
   ]
  },
  {
   "cell_type": "markdown",
   "id": "dfa5c807",
   "metadata": {},
   "source": [
    "### Flash messages\n",
    "Message to flash to user before redirect. Example, a success message. Shown in the example above, you include this in your controller."
   ]
  },
  {
   "cell_type": "code",
   "execution_count": null,
   "id": "171d8c2d",
   "metadata": {},
   "outputs": [],
   "source": [
    "session()->flash('success', 'success!')"
   ]
  },
  {
   "cell_type": "markdown",
   "id": "7b3ab3ef",
   "metadata": {},
   "source": [
    "Then you can include the session message in your html:"
   ]
  },
  {
   "cell_type": "code",
   "execution_count": null,
   "id": "08f779fd",
   "metadata": {},
   "outputs": [],
   "source": [
    "## On redirect page   \n",
    "<?php if(session()->has('success')): ?>\n",
    "    <div>\n",
    "        <p><?= session('success') ?></p>\n",
    "    </div>\n",
    "<?php endif; ?>"
   ]
  },
  {
   "cell_type": "markdown",
   "id": "32929bee",
   "metadata": {},
   "source": [
    "### Middleware\n",
    "App/http/kernel defines which middleware are global and which are route specific. Laravel has lots of inbuilt middleware. \n",
    "\n",
    "Let's say we want to restrict our signup page for only people who aren't signed in, we can restrict the link to only be shown to non-users. Use the middlewar 'guest' which restricts to people who aren't logged in. Inversely, 'auth' is for people who are logged in."
   ]
  },
  {
   "cell_type": "code",
   "execution_count": null,
   "id": "2cdba0f0",
   "metadata": {},
   "outputs": [],
   "source": [
    "## routes/web.php\n",
    "Route::get('/signup', [RegistryController::class, 'create'])->middleware('guest');\n",
    "\n",
    "Route::post('/signup',[RegistryController::class, 'store'])->middleware('guest');"
   ]
  },
  {
   "cell_type": "markdown",
   "id": "528f731b",
   "metadata": {},
   "source": [
    "Can then conditionally render the register button by using the @guest tag in our html:"
   ]
  },
  {
   "cell_type": "code",
   "execution_count": null,
   "id": "685c0e56",
   "metadata": {},
   "outputs": [],
   "source": [
    "@guest\n",
    "    <button href='/signup'>register</button>\n",
    "@endguest"
   ]
  },
  {
   "cell_type": "markdown",
   "id": "9a3eddfd",
   "metadata": {},
   "source": [
    "When a user is logged in, we can use the auth() helper to access their details:"
   ]
  },
  {
   "cell_type": "code",
   "execution_count": null,
   "id": "196d2152",
   "metadata": {},
   "outputs": [],
   "source": [
    "<div>Welcome, {{ auth()->user()->name }}</div>"
   ]
  },
  {
   "cell_type": "markdown",
   "id": "2a8c3a80",
   "metadata": {},
   "source": [
    "### Login and out route"
   ]
  },
  {
   "cell_type": "code",
   "execution_count": null,
   "id": "3f5ce732",
   "metadata": {},
   "outputs": [],
   "source": [
    "## web.php\n",
    "# Use generic sessions controller\n",
    "Route::post('logout', [SessionsController::class, 'destroy'])->middleware('auth')\n",
    "\n",
    "Route::post('logout', [SessionsController::class, 'create'])->middleware('guest')\n",
    "\n",
    "Route::post('sessions', [SessionsController::class, 'store'])->middleware('guest')"
   ]
  },
  {
   "cell_type": "code",
   "execution_count": null,
   "id": "c45936c6",
   "metadata": {},
   "outputs": [],
   "source": [
    "#App\\http\\controllers\\SessionController\n",
    "\n",
    "public function destroy()\n",
    "{\n",
    "    auth()->logout();\n",
    "    return redirect('/')->with('success', 'Goodbye!')\n",
    "}\n",
    "\n",
    "public function create(){\n",
    "    return view('login')\n",
    "}\n",
    "\n",
    "public function store()\n",
    "{\n",
    "    ## Check user exists\n",
    "    request()->validate([\n",
    "        'email'=>array('required', Rule::Exists('users', 'email')),\n",
    "        'password'=>array('required')\n",
    "    ])\n",
    "    \n",
    "    ## attempt to log in\n",
    "    if(auth()->attempt($attributes)){\n",
    "        return redirect('/')->with('success', 'welcome back!')\n",
    "    }\n",
    "    \n",
    "    ## Otherwise redirect back with custom errors\n",
    "    return back()\n",
    "        ->withInput() # Save input details\n",
    "        ->withErrors(['email'=>'Incorrect email']);\n",
    "    \n",
    "    \n",
    "    ## ALTERNATIVELY can throw a validation error:\n",
    "    # does the same thing\n",
    "    throw ValidationException::withMessages([\n",
    "        'email'=>'Your email was incorrect'\n",
    "    ])\n",
    "}"
   ]
  },
  {
   "cell_type": "code",
   "execution_count": null,
   "id": "e629160e",
   "metadata": {},
   "outputs": [],
   "source": [
    "## html form post to sessions\n",
    "<form method=\"POST\" action=\"/sessions\">\n",
    "//... login\n",
    "</form>"
   ]
  },
  {
   "cell_type": "markdown",
   "id": "f84f02fe",
   "metadata": {},
   "source": [
    "## Auth errors: \n",
    "Note if it is throwing issues when you try to use auth, you will need to go into config/auth.php and update the pathway to user (you moved it into models folder)"
   ]
  },
  {
   "cell_type": "markdown",
   "id": "bc0a8954",
   "metadata": {},
   "source": [
    "## CRUD api set up\n",
    "Below command makes a controller with the five key methods: \n",
    "- index\n",
    "- store\n",
    "- update\n",
    "- create\n",
    "- destroy\n",
    "- (show)"
   ]
  },
  {
   "cell_type": "code",
   "execution_count": null,
   "id": "24afd4c9",
   "metadata": {},
   "outputs": [],
   "source": [
    "$ php artisan make:controller Api/UserController --api --model=User"
   ]
  },
  {
   "cell_type": "markdown",
   "id": "63456078",
   "metadata": {},
   "source": [
    "Use of apiResource() when defining your route allows you to define all your key routes in one single line. apiResource() maps to all the API methods in the controller. "
   ]
  },
  {
   "cell_type": "code",
   "execution_count": null,
   "id": "243653cc",
   "metadata": {},
   "outputs": [],
   "source": [
    "## routes/api.php\n",
    "Route::apiResource('users', UserController::class);"
   ]
  },
  {
   "cell_type": "markdown",
   "id": "d54b58e7",
   "metadata": {},
   "source": [
    "Can use a resource (a separate class) to ensure returns are formatted correctly. "
   ]
  },
  {
   "cell_type": "code",
   "execution_count": null,
   "id": "5a4d39a3",
   "metadata": {},
   "outputs": [],
   "source": [
    "$ php artisan make:resource UserGroupResource"
   ]
  },
  {
   "cell_type": "code",
   "execution_count": null,
   "id": "2085e009",
   "metadata": {},
   "outputs": [],
   "source": [
    "## App\\http\\resources\\usergroupresources.php\n",
    "# What to return from request\n",
    "class UserGroupResource extends JsonResource\n",
    "{\n",
    "    /**\n",
    "     * Transform the resource into an array.\n",
    "     *\n",
    "     * @return array<string, mixed>\n",
    "     */\n",
    "    public function toArray(Request $request): array\n",
    "    {\n",
    "        return [\n",
    "            \"group_id\" => $this->group_id,\n",
    "            \"invite_code\" => $this->invite_code,\n",
    "            \"title\" => $this->title,\n",
    "            \"owner\" => $this->owner,\n",
    "            \"default_flags\" => $this->default_flags,\n",
    "            \"created_by\" => $this->created_by,\n",
    "            \"added_on\" => $this->added_on,\n",
    "            \"hibernated\" => $this->hibernated,\n",
    "            \"users_count\" => $this->whenCounted(\"users\")\n",
    "        ];\n",
    "    }\n",
    "}"
   ]
  },
  {
   "cell_type": "markdown",
   "id": "bbbbb242",
   "metadata": {},
   "source": [
    "Can then use in the controller. Use **collection** function to call all user groups with users in them from the db. \n",
    "\n",
    "Below returns all user groups as data object"
   ]
  },
  {
   "cell_type": "markdown",
   "id": "d2d941e8",
   "metadata": {},
   "source": [
    "#### Index"
   ]
  },
  {
   "cell_type": "code",
   "execution_count": null,
   "id": "d96974ee",
   "metadata": {},
   "outputs": [],
   "source": [
    "## app\\http\\controllers\\usergroupcontroller.php\n",
    "public function index()\n",
    "    {\n",
    "        Gate::authorize(\"has-flag\", [\"admin\"]);\n",
    "\n",
    "        return UserGroupResource::collection(UserGroup::all())\n",
    "    }"
   ]
  },
  {
   "cell_type": "markdown",
   "id": "b383acfa",
   "metadata": {},
   "source": [
    "Can also call the **paginate** method to return an input number of items with links to the next page's api:"
   ]
  },
  {
   "cell_type": "code",
   "execution_count": null,
   "id": "39331acb",
   "metadata": {},
   "outputs": [],
   "source": [
    "UserGroupResouce::collection(UserGroup::paginate(5))  # 5 per page"
   ]
  },
  {
   "cell_type": "markdown",
   "id": "d0b40db3",
   "metadata": {},
   "source": [
    "#### Show"
   ]
  },
  {
   "cell_type": "code",
   "execution_count": null,
   "id": "47f5645f",
   "metadata": {},
   "outputs": [],
   "source": [
    "public function show(UserGroup $usergroup)\n",
    "{\n",
    "    ## Returns new resource with object passed in\n",
    "    return new UserGroupResouce($usergroup);\n",
    "}"
   ]
  },
  {
   "cell_type": "markdown",
   "id": "7752f067",
   "metadata": {},
   "source": [
    "#### Store"
   ]
  },
  {
   "cell_type": "code",
   "execution_count": null,
   "id": "c2d27fe5",
   "metadata": {},
   "outputs": [],
   "source": [
    "public function store(Request $request)\n",
    "{\n",
    "    $user = $request->validate([\n",
    "        'name'=> array('required', 'string', 'max:255'),\n",
    "        'email'=> array('required', 'email', 'unique:users'),\n",
    "        'password'=> array('required', 'min:7', 'confirmed')\n",
    "    ]);\n",
    "    \n",
    "    User::create($user)\n",
    "    \n",
    "    ## Hashed in eloquent model\n",
    "    \n",
    "    return new UserResource($user)\n",
    "}"
   ]
  },
  {
   "cell_type": "markdown",
   "id": "815effe4",
   "metadata": {},
   "source": [
    "##### Store user requests\n",
    "Can make another request (app/http/requests) which is already populated with authorize() and rules() method. Requests offer an object-oriented way of interacting with current HTTP requests being handled by your app, as well as retrieve input, cookies and files that are submitted with the request. \n",
    "\n",
    "Automatically will validate the request agaisnt the rules function"
   ]
  },
  {
   "cell_type": "code",
   "execution_count": null,
   "id": "ade9b594",
   "metadata": {},
   "outputs": [],
   "source": [
    "$ php artisan make:request StoreUserRequest"
   ]
  },
  {
   "cell_type": "code",
   "execution_count": null,
   "id": "271f6fad",
   "metadata": {},
   "outputs": [],
   "source": [
    "## App\\http\\requests\\storeusergrouprequest\n",
    "\n",
    "class StoreUserGroupRequest extends FormRequest\n",
    "{\n",
    "    /**\n",
    "     * Determine if the user is authorized to make this request.\n",
    "     */\n",
    "    public function authorize(): bool\n",
    "    {\n",
    "        return Gate::allows(\"has-flag\", [\"admin\"]);\n",
    "    }\n",
    "\n",
    "    /**\n",
    "     * Get the validation rules that apply to the request.\n",
    "     *\n",
    "     * @return array<string, \\Illuminate\\Contracts\\Validation\\Rule|array|string>\n",
    "     */\n",
    "    public function rules(): array\n",
    "    {\n",
    "        return [\n",
    "            'group_id' => array('required', 'string', 'max:255', 'unique:user_groups'),\n",
    "            'title' => array('required', 'string', 'max:255'),\n",
    "            'owner' => array('required', 'string', 'max:255'),\n",
    "            'default_flags' => array('required', 'array', 'min:1'),\n",
    "            'hibernated' => array('bool')\n",
    "        ];\n",
    "    }\n",
    "}"
   ]
  },
  {
   "cell_type": "markdown",
   "id": "e0c0fe77",
   "metadata": {},
   "source": [
    "This will automatically validate the request agaisnt the given rules. We just need to import it in the resource class's argument: "
   ]
  },
  {
   "cell_type": "code",
   "execution_count": null,
   "id": "cbe32f2a",
   "metadata": {},
   "outputs": [],
   "source": [
    "public function store(StoreUserRequest $request)\n",
    "{\n",
    "    $user = $request->validate([\n",
    "        'name'=> array('required', 'string', 'max:255'),\n",
    "        'email'=> array('required', 'email', 'unique:users'),\n",
    "        'password'=> array('required', 'min:7', 'confirmed')\n",
    "    ]);\n",
    "    \n",
    "    User::create($user)\n",
    "    \n",
    "    ## Hashed in eloquent model\n",
    "    \n",
    "    return new UserResource($user)\n",
    "}"
   ]
  },
  {
   "cell_type": "markdown",
   "id": "aa7c2f8c",
   "metadata": {},
   "source": [
    "#### Update"
   ]
  },
  {
   "cell_type": "code",
   "execution_count": null,
   "id": "df6db44c",
   "metadata": {},
   "outputs": [],
   "source": [
    "## make another request object\n",
    "## app\\http\\request\\UpdateUserRequest.php\n",
    "## Can copy-paste validation from create user group\n",
    "\n",
    "class StoreUserGroupRequest extends FormRequest\n",
    "{\n",
    "    /**\n",
    "     * Determine if the user is authorized to make this request.\n",
    "     */\n",
    "    public function authorize(): bool\n",
    "    {\n",
    "        return Gate::allows(\"has-flag\", [\"admin\"]);\n",
    "    }\n",
    "\n",
    "    /**\n",
    "     * Get the validation rules that apply to the request.\n",
    "     *\n",
    "     * @return array<string, \\Illuminate\\Contracts\\Validation\\Rule|array|string>\n",
    "     */\n",
    "    public function rules(): array\n",
    "    {\n",
    "        return [\n",
    "            'group_id' => array('required', 'string', 'max:255', 'unique:user_groups'),\n",
    "            'title' => array('required', 'string', 'max:255'),\n",
    "            'owner' => array('required', 'string', 'max:255'),\n",
    "            'default_flags' => array('required', 'array', 'min:1'),\n",
    "            'hibernated' => array('bool')\n",
    "        ];\n",
    "    }\n",
    "}"
   ]
  },
  {
   "cell_type": "code",
   "execution_count": null,
   "id": "8500cf37",
   "metadata": {},
   "outputs": [],
   "source": [
    "## Resource class\n",
    "public function update(UpdateUserRequest, $request, User $user)\n",
    "{\n",
    "    $user->update([\n",
    "        'name' => $request->name,\n",
    "        'email'=> $request->email,\n",
    "        'password'=> Hash::make($request->password)\n",
    "    ])\n",
    "    \n",
    "    return new UserResource($user)\n",
    "}"
   ]
  },
  {
   "cell_type": "markdown",
   "id": "7a8b291e",
   "metadata": {},
   "source": [
    "#### Destroy"
   ]
  },
  {
   "cell_type": "code",
   "execution_count": null,
   "id": "839e1bf6",
   "metadata": {},
   "outputs": [],
   "source": [
    "public function destroy(User $user)\n",
    "{\n",
    "    return $user->delete()\n",
    "}"
   ]
  }
 ],
 "metadata": {
  "kernelspec": {
   "display_name": "Python 3 (ipykernel)",
   "language": "python",
   "name": "python3"
  },
  "language_info": {
   "codemirror_mode": {
    "name": "ipython",
    "version": 3
   },
   "file_extension": ".py",
   "mimetype": "text/x-python",
   "name": "python",
   "nbconvert_exporter": "python",
   "pygments_lexer": "ipython3",
   "version": "3.11.5"
  }
 },
 "nbformat": 4,
 "nbformat_minor": 5
}
